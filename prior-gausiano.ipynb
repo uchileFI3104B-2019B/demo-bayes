{
 "cells": [
  {
   "cell_type": "markdown",
   "metadata": {},
   "source": [
    "# Gausiana Multivariada"
   ]
  },
  {
   "cell_type": "markdown",
   "metadata": {},
   "source": [
    "Las funciones gausianas en N-dimensiones son muy útiles en estadística Bayesiana para definir probabilidades a priori."
   ]
  },
  {
   "cell_type": "code",
   "execution_count": 1,
   "metadata": {},
   "outputs": [],
   "source": [
    "import numpy as np\n",
    "import matplotlib.pyplot as plt"
   ]
  },
  {
   "cell_type": "code",
   "execution_count": 2,
   "metadata": {},
   "outputs": [],
   "source": [
    "plt.style.use(['ggplot', 'demo.mplstyle'])"
   ]
  },
  {
   "cell_type": "markdown",
   "metadata": {},
   "source": [
    "Primero definamos a mano una gausiana en 2D."
   ]
  },
  {
   "cell_type": "code",
   "execution_count": 3,
   "metadata": {},
   "outputs": [],
   "source": [
    "def gaussiana_2d(x, y, pars):\n",
    "    mu_x, mu_y, sigma_x, sigma_y, rho = pars\n",
    "    exp = np.exp(-1/(2 * (1-rho**2)) * (  (x - mu_x)**2 / sigma_x**2 \n",
    "                                        + (y - mu_y)**2 / sigma_y**2 \n",
    "                                        - (2 * rho * (x - mu_x) * (y - mu_y) \n",
    "                                           / (sigma_x * sigma_y))))\n",
    "    output = exp / (2 * np.pi * sigma_x * sigma_y * np.sqrt(1 - rho**2))\n",
    "    return output"
   ]
  },
  {
   "cell_type": "markdown",
   "metadata": {},
   "source": [
    "A continuación definamos los parámetros de la gausiana 2D que vamos a evaluar."
   ]
  },
  {
   "cell_type": "code",
   "execution_count": 4,
   "metadata": {},
   "outputs": [],
   "source": [
    "mu_x = 2.\n",
    "mu_y = -1.\n",
    "sigma_x = 0.5\n",
    "sigma_y = 2.\n",
    "rho = -0.5\n",
    "\n",
    "pars = mu_x, mu_y, sigma_x, sigma_y, rho"
   ]
  },
  {
   "cell_type": "markdown",
   "metadata": {},
   "source": [
    "Ahora podemos evaluar la gausiana. Los resultados de la evaluación los guardamos en un arreglo que llamamos `prior`."
   ]
  },
  {
   "cell_type": "code",
   "execution_count": 5,
   "metadata": {},
   "outputs": [],
   "source": [
    "x = np.arange(-1, 5, 0.1)\n",
    "y = np.arange(-6, 4, 0.5)\n",
    "\n",
    "prior = np.zeros((len(x), len(y)))\n",
    "\n",
    "for i, x_i in enumerate(x):\n",
    "    for j, y_j in enumerate(y):\n",
    "        prior[i, j] = gaussiana_2d(x_i, y_j, pars)"
   ]
  },
  {
   "cell_type": "markdown",
   "metadata": {},
   "source": [
    "El gráfico a continuación, muestra en escala de colores las densidades de probabilidad asociadas a cada punto.\n",
    "\n",
    "La línea `ax.set_aspect('equal')` hace que el aspecto relativo del eje `x` y el eje `y` sean iguales. Esto es útil para una visualización apropiada. "
   ]
  },
  {
   "cell_type": "code",
   "execution_count": 6,
   "metadata": {},
   "outputs": [
    {
     "data": {
      "image/png": "[encoded data removed]",
      "text/plain": [
       "<Figure size 540x360 with 1 Axes>"
      ]
     },
     "metadata": {},
     "output_type": "display_data"
    }
   ],
   "source": [
    "x_grid, y_grid = np.meshgrid(x, y, indexing='ij')\n",
    "\n",
    "fig = plt.figure(1)\n",
    "ax = fig.add_subplot(111)\n",
    "ax.set_aspect('equal')\n",
    "plt.pcolormesh(x_grid, y_grid, prior)\n",
    "\n",
    "plt.xlabel('x')\n",
    "plt.ylabel('y');"
   ]
  },
  {
   "cell_type": "markdown",
   "metadata": {},
   "source": [
    "Lo que acabamos de hacer se puede extender a N dimensiones pero se vuelve un poco engorroso. Además, la densidad de probabilidad gausiana ya está incluída en el paquete `scipy.stats`. A continuación veremos cómo utilizarla.\n",
    "\n",
    "Para comparar directamente con nuestra implementación escrita a mano, vamos a re-implementar la misma gausiana 2D usando `scipy`.\n",
    "\n",
    "Lo más importante es entender que `multivariate_normal` es una clase, que implementa variables aleatorias en N dimensiones. Una instancia de esa variable aleatoria tendrá métodos como `pdf` que nos permitirán evaluar la densidad de probabilidad."
   ]
  },
  {
   "cell_type": "code",
   "execution_count": 7,
   "metadata": {},
   "outputs": [],
   "source": [
    "from scipy.stats import multivariate_normal"
   ]
  },
  {
   "cell_type": "markdown",
   "metadata": {},
   "source": [
    "A continuación definimos los parámetros que vamos a utilizar para nuestra variable aleatoria gausiana en 2D e inicializamos una instancia que llamamos `gauss_2d_rv`.\n",
    "\n",
    "Si quisieramos que la gausiana fuera en más dimensiones, basta con darle las dimensiones correctas a los parámetros `mu` y `sigma`."
   ]
  },
  {
   "cell_type": "code",
   "execution_count": 8,
   "metadata": {},
   "outputs": [],
   "source": [
    "rho =  -0.5\n",
    "mu = [mu_x, mu_y]\n",
    "sigma = [[sigma_x**2             , rho * sigma_x * sigma_y],\n",
    "         [rho * sigma_x * sigma_y,              sigma_y**2]]\n",
    "\n",
    "gauss_2d_rv = multivariate_normal(mu, sigma)"
   ]
  },
  {
   "cell_type": "markdown",
   "metadata": {},
   "source": [
    "La forma en que está implementada `multivariate_normal.pdf` requiere que se le entregue un set de posiciones en un formato específico. El ejemplo a continuación demuestra cómo hacerlo."
   ]
  },
  {
   "cell_type": "code",
   "execution_count": 9,
   "metadata": {},
   "outputs": [],
   "source": [
    "x_grid, y_grid\n",
    "\n",
    "posiciones = np.empty(x_grid.shape + (2,))\n",
    "posiciones[:, :, 0] = x_grid\n",
    "posiciones[:, :, 1] = y_grid\n",
    "\n",
    "prior_scipy = gauss_2d_rv.pdf(posiciones)"
   ]
  },
  {
   "cell_type": "markdown",
   "metadata": {},
   "source": [
    "Finalmente podemos visualizar la gausiana que acabamos de calcular."
   ]
  },
  {
   "cell_type": "code",
   "execution_count": 10,
   "metadata": {},
   "outputs": [
    {
     "data": {
      "image/png": "[encoded data removed]",
      "text/plain": [
       "<Figure size 540x360 with 1 Axes>"
      ]
     },
     "metadata": {},
     "output_type": "display_data"
    }
   ],
   "source": [
    "fig = plt.figure(1)\n",
    "ax = fig.add_subplot(111)\n",
    "ax.set_aspect('equal')\n",
    "plt.pcolormesh(x_grid, y_grid, prior_scipy)\n",
    "\n",
    "plt.xlabel('x')\n",
    "plt.ylabel('y');"
   ]
  }
 ],
 "metadata": {
  "kernelspec": {
   "display_name": "Python 3",
   "language": "python",
   "name": "python3"
  },
  "language_info": {
   "codemirror_mode": {
    "name": "ipython",
    "version": 3
   },
   "file_extension": ".py",
   "mimetype": "text/x-python",
   "name": "python",
   "nbconvert_exporter": "python",
   "pygments_lexer": "ipython3",
   "version": "3.6.7"
  }
 },
 "nbformat": 4,
 "nbformat_minor": 4
}
